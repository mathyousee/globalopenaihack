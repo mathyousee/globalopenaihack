{
 "cells": [
  {
   "attachments": {},
   "cell_type": "markdown",
   "metadata": {},
   "source": [
    "# Types of SK Plugin Functions\n",
    "\n",
    "First, as a reminder, Semantic Kernel allows you to define Plugins (formerly known as Skills) which encapsulate one or more Functions. These functions are where you will engineer your prompts (as well as insert and access variables). There are three types of plugin functions supported:\n",
    "\n",
    "- *Inline*: inline functions are written in your chosen native language. You create the prompt, any variables, and configuration options in your desired language.\n",
    "- *Semantic*: semantic functions are written in something closer to natural language. While this may initially seem too basic or limited, this non-traditional code can often be a very powerful approach in this A.I. world. (\"English is the new programming language.\")\n",
    "- *Native*: like inline functions, native functions are written in your chosen native language, but they allow you to wrap any code logic as a function to be used within the kernel."
   ]
  },
  {
   "cell_type": "code",
   "execution_count": 2,
   "metadata": {
    "dotnet_interactive": {
     "language": "csharp"
    },
    "polyglot_notebook": {
     "kernelName": "csharp"
    },
    "vscode": {
     "languageId": "polyglot-notebook"
    }
   },
   "outputs": [
    {
     "data": {
      "text/html": [
       "<div><div></div><div></div><div><strong>Installed Packages</strong><ul><li><span>Microsoft.SemanticKernel, 0.20.230821.4-preview</span></li></ul></div></div>"
      ]
     },
     "metadata": {},
     "output_type": "display_data"
    },
    {
     "name": "stdout",
     "output_type": "stream",
     "text": [
      "https://maanders-azureai-language.cognitiveservices.azure.com/\r\n"
     ]
    }
   ],
   "source": [
    "#r \"nuget: Microsoft.SemanticKernel, 0.20.230821.4-preview\"\n",
    "\n",
    "#!import ../config/SettingsHelper.cs\n",
    "\n",
    "using Microsoft.SemanticKernel;\n",
    "// the following is an abbreviated version of the code in Tutorial0 that reads from the settings file and sets up the kernel\n",
    "MySettings settings = Settings.LoadFromFile();\n",
    "IKernel kernel = Settings.SetupSemanticKernel(settings);\n",
    "Console.WriteLine(settings.LanguageEndpoint)"
   ]
  },
  {
   "attachments": {},
   "cell_type": "markdown",
   "metadata": {},
   "source": [
    "## Inline Function\n",
    "\n",
    "You can create a function alongside the rest of your code. These inline functions are very easy to implement and may allow for some more complex prompt construstion, but it potentially sacrifices some reusability and maintainability.\n",
    "\n",
    "Run the following code."
   ]
  },
  {
   "cell_type": "code",
   "execution_count": 3,
   "metadata": {
    "dotnet_interactive": {
     "language": "csharp"
    },
    "polyglot_notebook": {
     "kernelName": "csharp"
    },
    "vscode": {
     "languageId": "polyglot-notebook"
    }
   },
   "outputs": [
    {
     "name": "stdout",
     "output_type": "stream",
     "text": [
      "\n",
      "\n",
      "Battle every succumb will you, enemy the nor yourself know neither, defeat\r\n"
     ]
    }
   ],
   "source": [
    "using Microsoft.SemanticKernel.Orchestration;\n",
    "\n",
    "// define your inline function\n",
    "string functionDefinition = \"Write the following words in reverse order: {{$input}}\";\n",
    "var reverseFunction = kernel.CreateSemanticFunction(functionDefinition);\n",
    "\n",
    "// insert your prompt in your inline function\n",
    "string prompt = \"If you know the enemy and know yourself, you need not fear the result of a hundred battles. If you know yourself but not the enemy, for every victory gained you will also suffer a defeat. If you know neither the enemy nor yourself, you will succumb in every battle.\";\n",
    "SKContext completion = await reverseFunction.InvokeAsync(prompt);\n",
    "\n",
    "Console.WriteLine(completion);"
   ]
  },
  {
   "cell_type": "markdown",
   "metadata": {},
   "source": [
    "We first define our inline function using a standard string. The strange-looking {{$input}} is a variable - a placeholder for the rest of the text we'll provide before sending it to OpenAI.\n",
    "\n",
    "The second line of code uses the kernel's CreateSemanticFunction method to turn our string into a real Semantic Kernel function. The function acts like a template that we customize with additional information - in this case a quote from a world-famous philosopher and strategist."
   ]
  },
  {
   "attachments": {},
   "cell_type": "markdown",
   "metadata": {},
   "source": [
    "# Semantic Functions\n",
    "\n",
    "Semantic functions are especially interesting. Up to this point, we defined our functions using traditional C# code and there's a lot of great use cases for doing so. But in a world of A.I., why can't we just use a more natural language to define our function? A semantic function allows for exactly that!\n",
    "\n",
    "Semantic functions are defined by two files - and a particular folder structure. The top-level folder is the plugin (formerly known as a skill) and it contains a variety of related functions. Each function is defined by two files: A config.json file defines the parameters to pass to OpenAI's API and the skprompt.txt file defines the actual prompt and any variables.\n",
    "\n",
    "Before you run the code below, open each of the two files in the Plugins/TranslatePlugin/PigLatinFunction folder.\n",
    "- The most interesting file is the skprompt.txt file which is our function definition. The {{$input}} is a built-in variable that we'll replace with the rest of our prompt. (We'll discuss supporting multiple parameters in our Context Variables tutorial.)\n",
    "- We'll dive into the config.json options in another tutorial, but it's good to at least see what that file contains for now."
   ]
  },
  {
   "cell_type": "code",
   "execution_count": 4,
   "metadata": {
    "dotnet_interactive": {
     "language": "csharp"
    },
    "polyglot_notebook": {
     "kernelName": "csharp"
    },
    "vscode": {
     "languageId": "polyglot-notebook"
    }
   },
   "outputs": [
    {
     "name": "stdout",
     "output_type": "stream",
     "text": [
      "\n",
      "Id-day ou-yay ever-day ance-day ith-way ee-thay evil-day in ee-thay ale.-pay Oonlight.-may\r\n"
     ]
    }
   ],
   "source": [
    "using System.IO;\n",
    "\n",
    "// load the plugin from your folder structure\n",
    "string pluginDirectory = Path.Combine(Directory.GetCurrentDirectory(), \"Plugins\");\n",
    "var translatePlugin = kernel.ImportSemanticSkillFromDirectory(pluginDirectory, \"TranslatePlugin\");\n",
    "\n",
    "string prompt = \"Did you ever dance with the devil in the pale moonlight?\";\n",
    "\n",
    "// run the specified function within a specific plugin\n",
    "var result = await kernel.RunAsync(prompt, translatePlugin[\"PigLatinFunction\"]);\n",
    "\n",
    "Console.WriteLine(result);"
   ]
  },
  {
   "cell_type": "markdown",
   "metadata": {},
   "source": [
    "In the above example, the first two lines load the Semantic Kernel up with the TranslatePlugin in our Plugins folder. We then pass the prompt into our PigLatinFunction. The RunAsync method of the kernel inserts our prompt into the function and sends the entire thing to OpenAI to calculate the completion. (I think the character associated with this quote would appreciate our work here. :D )"
   ]
  },
  {
   "attachments": {},
   "cell_type": "markdown",
   "metadata": {},
   "source": [
    "# Native Functions\n",
    "\n",
    "Like inline functions, native functions are written in code. Since it's \"just code\", native functions provide the same opportunity to do anything you can do in code (basically everything! :) )\n",
    "\n",
    "*You'll learn more about native function capabilities in the prompt chaining tutorial.*\n",
    "\n",
    "Before you run the following code, find the OldeEnglishPlugin.cs file in the Plugins folder. Open it up and look at the very simple code to see if you can predict what it's going to do."
   ]
  },
  {
   "cell_type": "code",
   "execution_count": 5,
   "metadata": {
    "dotnet_interactive": {
     "language": "csharp"
    },
    "polyglot_notebook": {
     "kernelName": "csharp"
    },
    "vscode": {
     "languageId": "polyglot-notebook"
    }
   },
   "outputs": [
    {
     "name": "stdout",
     "output_type": "stream",
     "text": [
      "Translate the following into olde English: Death cannot stop true love. All it can do is delay it for a while.\r\n"
     ]
    }
   ],
   "source": [
    "#!import Plugins/OldeEnglishPlugin.cs\n",
    "\n",
    "var oePlugin = kernel.ImportSkill(new OldeEnglishPlugin());\n",
    "\n",
    "var context = kernel.RunAsync(\n",
    "    \"Death cannot stop true love. All it can do is delay it for a while.\", \n",
    "    oePlugin[\"Translate\"]);\n",
    "\n",
    "Console.WriteLine(context.Result);"
   ]
  },
  {
   "attachments": {},
   "cell_type": "markdown",
   "metadata": {},
   "source": [
    "Hmmm...that may not have been the output we expected, but it is behaving correctly. Unlike the semantic and inline functions we saw above, native functions aren't intrinsically wired into OpenAI. Native functions allow you to take any custom code and treat it as a plugin that can be used within the kernel. Each method in the class can be designated as a function by decorating the method with the SKFunction attribute.\n",
    "\n",
    "If you want to incorporate AI into your function and need to work in code, consider inline functions first as they are simple, but if you want to add AI into your native function (or you really just want to see the Olde English interpretation of the quote above :) ), check out the following example."
   ]
  },
  {
   "cell_type": "code",
   "execution_count": 6,
   "metadata": {
    "dotnet_interactive": {
     "language": "csharp"
    },
    "polyglot_notebook": {
     "kernelName": "csharp"
    },
    "vscode": {
     "languageId": "polyglot-notebook"
    }
   },
   "outputs": [
    {
     "name": "stdout",
     "output_type": "stream",
     "text": [
      "\n",
      "\n",
      "Deaþ ne cann nawþer stonden\r\n"
     ]
    }
   ],
   "source": [
    "#!import Plugins/OldeEnglishPlugin2.cs\n",
    "\n",
    "var oePlugin = kernel.ImportSkill(new OldeEnglishPlugin2());\n",
    "\n",
    "var context = kernel.RunAsync(\n",
    "    \"Death cannot stop true love. All it can do is delay it for a while.\", \n",
    "    oePlugin[\"Translate\"]);\n",
    "\n",
    "Console.WriteLine(context.Result);"
   ]
  },
  {
   "cell_type": "markdown",
   "metadata": {},
   "source": [
    "That's a little better! Open the OldeEnglishPlugin2.cs file and compare it to the OldeEnglishPlugin.cs you looked at above. We'll look at different ways to use native functions in other tutorials."
   ]
  },
  {
   "attachments": {},
   "cell_type": "markdown",
   "metadata": {},
   "source": [
    "## Exercise\n",
    "\n",
    "With each of the above functions now associated with the kernel, write code in the box below to invoke each function with your own input prompt and write the output of each to the Console window."
   ]
  },
  {
   "cell_type": "code",
   "execution_count": null,
   "metadata": {
    "dotnet_interactive": {
     "language": "csharp"
    },
    "polyglot_notebook": {
     "kernelName": "csharp"
    },
    "vscode": {
     "languageId": "polyglot-notebook"
    }
   },
   "outputs": [],
   "source": []
  },
  {
   "attachments": {},
   "cell_type": "markdown",
   "metadata": {},
   "source": [
    "# Exercise\n",
    "\n",
    "Add your own semantic function to the Tutorial02 folder and test that you get the desired result.\n",
    "Add your own native function to the Tutorial02 folder and test that you get the desired result."
   ]
  },
  {
   "cell_type": "code",
   "execution_count": null,
   "metadata": {
    "dotnet_interactive": {
     "language": "csharp"
    },
    "polyglot_notebook": {
     "kernelName": "csharp"
    },
    "vscode": {
     "languageId": "polyglot-notebook"
    }
   },
   "outputs": [],
   "source": []
  },
  {
   "attachments": {},
   "cell_type": "markdown",
   "metadata": {},
   "source": [
    "You've achieved an important milestone because functions and skills/plugins are important building blocks of Semantic Kernel!\n",
    "\n",
    "You can probably imagine all kinds of things you could start creating! But check out the next tutorial because it's important we start putting all of these building blocks together."
   ]
  }
 ],
 "metadata": {
  "language_info": {
   "name": "python"
  },
  "orig_nbformat": 4
 },
 "nbformat": 4,
 "nbformat_minor": 2
}
