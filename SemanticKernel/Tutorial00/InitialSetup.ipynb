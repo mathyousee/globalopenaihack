{
 "cells": [
  {
   "attachments": {},
   "cell_type": "markdown",
   "metadata": {},
   "source": [
    "# Setup prerequisites\n",
    "\n",
    "In this brief tutorial, we'll make sure you get everything set up so you can run the other notebooks.\n",
    "\n",
    "1. First, you'll need Visual Studio Code. You'll also need the Polyglot extension from Microsoft.\n",
    "2. In order to make progress in these tutorials, you must have either Azure OpenAI Service provisioned and/or established an OpenAI account.\n",
    "3. Find the **config** folder and add a new file there named **settings.json**.\n",
    "4. In the settings.json file you just created, paste the following code and replace the text within square brackets with your own settings. (Remember you only to populate either AzureOpenAI or OpenAI settings.): \n",
    "``` json\n",
    "{\n",
    "    \"Type\": \"azure\", \n",
    "    \"AzureOpenAI\": {\n",
    "        \"Endpoint\": \"[the endpoint URL from your Azure OpenAI Service instance]\", \n",
    "        \"ApiKey\": \"[key from your Azure OpenAI Service instance.]\", \n",
    "        \"CompletionsDeployment\": \"[insert the name of a deployment in your Azure OpenAI instance.]\"\n",
    "    }, \n",
    "    \"OpenAI\": {\n",
    "        \"ApiKey\": \"[the key from your OpenAI instance]\", \n",
    "        \"OrgId\": \"[the organization ID from your OpenAI instance]\", \n",
    "        \"Model\": \"[insert the name of the model you are using from OpenAI]\"\n",
    "    }\n",
    "}\n",
    "```\n",
    "For the **type** setting above, you can enter *azure* to specify you want to use Azure OpenAI Service or *openai* if you want to use OpenAI.\n",
    "\n",
    "If you are connecting to an instance of the Azure OpenAI Service, you have to set:\n",
    "- **AzureOpenAI Endpoint** In the Azure portal, navigate to the **Overview** page of your Azure OpenAI instance. Copy the Endpoint URL to your clipboard and paste the value into your settings.json.\n",
    "- **AzureOpenAIApiKey** In the Azure portal, navigate to the **Keys and Endpoint** page of your Azure OpenAI instance. Copy the **KEY 1** value to your clipboard and paste the value into your settings.json.\n",
    "- **deployment** In the Azure portal, navigate to the **Model Deployments** page of your Azure OpenAI instance. Click the **Manage Deployments** button to navigate to Azure AI Studio and the **Deployments** page. If you haven't already, create a new deployment and select the text-davinci-003 model. Give your deployment a name and paste the value into your settings.json.\n",
    "Else if you are connecting directly to the OpenAI APIs, first navigate to [this](https://platform.openai.com/) and log in using your Microsoft account.\n",
    "- **ApiKey** In your browser, navigate to [this](https://platform.openai.com/account/api-keys) web page. Copy one of your API keys from the web page to your clipboard and paste the value into your settings.json.\n",
    "- **Organization** In your browser, navigate to [this](https://platform.openai.com/account/org-settings). Copy the organization ID from the web page to your clipboard and paste the value into your settings.json.\n",
    "- **Model** In your browser, navigate to [this](https://platform.openai.com/docs/models). You can (and should) explore the various models available from OpenAI, but for most of these tutorials, I recommend starting with text-davinci-003. Copy your chosen model to your clipboard and paste the value into your settings.json."
   ]
  },
  {
   "cell_type": "code",
   "execution_count": 13,
   "metadata": {
    "dotnet_interactive": {
     "language": "csharp"
    },
    "polyglot_notebook": {
     "kernelName": "csharp"
    },
    "vscode": {
     "languageId": "polyglot-notebook"
    }
   },
   "outputs": [
    {
     "name": "stdout",
     "output_type": "stream",
     "text": [
      "I want to use azure\n",
      "Using Azure OpenAI endpoint: https://sup-aoai.openai.azure.com/\n",
      "Your key is secret, but we see 32 characters in your setting.\n",
      "Using chat deployment: gpt35\n",
      "Using completions deployment: gpt35\n",
      "Your OpenAI API key is secret, but we see 0 characters in your setting.\n",
      "Using OpenAI Organization ID, but we see 0 characters in your setting.\n",
      "Using OpenAI model: \n"
     ]
    }
   ],
   "source": [
    "// hit the little play button to the left of this line in order to run this code\n",
    "// #r \"nuget: Microsoft.SemanticKernel, 0.20.230821.4-preview\"\n",
    "#!import ../config/SettingsHelper.cs\n",
    "MySettings settings = Settings.LoadFromFile();\n",
    "\n",
    "// print the settings from your file below\n",
    "Console.WriteLine($\"I want to use {settings.Type}\");\n",
    "Console.WriteLine($\"Using Azure OpenAI endpoint: {settings.AzureOpenAI.Endpoint}\");\n",
    "Console.WriteLine($\"Your key is secret, but we see {settings.AzureOpenAI.ApiKey.Length} characters in your setting.\");\n",
    "Console.WriteLine($\"Using chat deployment: {settings.AzureOpenAI.ChatDeployment}\");\n",
    "Console.WriteLine($\"Using completions deployment: {settings.AzureOpenAI.CompletionsDeployment}\");\n",
    "Console.WriteLine($\"Your OpenAI API key is secret, but we see {settings.OpenAI.ApiKey.Length} characters in your setting.\");\n",
    "Console.WriteLine($\"Using OpenAI Organization ID, but we see {settings.OpenAI.OrgId.Length} characters in your setting.\");\n",
    "Console.WriteLine($\"Using OpenAI model: {settings.OpenAI.Model}\");"
   ]
  },
  {
   "attachments": {},
   "cell_type": "markdown",
   "metadata": {},
   "source": [
    "If you see your settings correctly printed above, then you have set up your settings.json well. Great job!!\n",
    "\n",
    "We still have to ensure you entered the correct settings and you are able to access your instance of Azure OpenAI Service or OpenAI's APIs."
   ]
  },
  {
   "cell_type": "code",
   "execution_count": 14,
   "metadata": {
    "dotnet_interactive": {
     "language": "csharp"
    },
    "polyglot_notebook": {
     "kernelName": "csharp"
    },
    "vscode": {
     "languageId": "polyglot-notebook"
    }
   },
   "outputs": [
    {
     "data": {
      "text/html": [
       "<div><div></div><div></div><div><strong>Installed Packages</strong><ul><li><span>Microsoft.SemanticKernel, 0.20.230821.4-preview</span></li></ul></div></div>"
      ]
     },
     "metadata": {},
     "output_type": "display_data"
    },
    {
     "name": "stdout",
     "output_type": "stream",
     "text": [
      "...a woodchuck chuck, if a woodchuck could chuck wood? \n",
      "\n",
      "This is a popular tongue twister and a humorous question that does not have a definitive answer. Woodchucks, also known as groundhogs, are not known for chucking wood, but rather for burrowing in soil. However, if we were to imagine a scenario where a woodchuck could chuck wood, the amount would depend on various factors such as the size and strength of the woodchuck, the type of wood, and the time frame.\r\n"
     ]
    }
   ],
   "source": [
    "#r \"nuget: Microsoft.SemanticKernel, 0.20.230821.4-preview\"\n",
    "using Microsoft.SemanticKernel;\n",
    "using Microsoft.SemanticKernel.Orchestration;\n",
    "\n",
    "KernelBuilder builder = new();\n",
    "if (settings.Type == \"azure\")\n",
    "{\n",
    "    if (!string.IsNullOrWhiteSpace(settings.AzureOpenAI.CompletionsDeployment))\n",
    "        builder.WithAzureTextCompletionService(settings.AzureOpenAI.CompletionsDeployment, settings.AzureOpenAI.Endpoint, settings.AzureOpenAI.ApiKey);\n",
    "    if (!string.IsNullOrWhiteSpace(settings.AzureOpenAI.ChatDeployment))\n",
    "        builder.WithAzureChatCompletionService(settings.AzureOpenAI.ChatDeployment, settings.AzureOpenAI.Endpoint, settings.AzureOpenAI.ApiKey);\n",
    "}\n",
    "else\n",
    "    builder.WithOpenAIChatCompletionService(settings.OpenAI.Model, settings.OpenAI.ApiKey, settings.OpenAI.OrgId);\n",
    "IKernel kernel = builder.Build();\n",
    "\n",
    "// define your semantic function\n",
    "string functionDefinition = \"\"\"\n",
    "    {{$input}}...\n",
    "    Finish the phrase above.\n",
    "    \"\"\";\n",
    "var summaryFunction = kernel.CreateSemanticFunction(functionDefinition);\n",
    "\n",
    "// pass your prompt to your OpenAI instance and retrieve the completion\n",
    "string prompt = \"How much wood could\";\n",
    "SKContext completion = await summaryFunction.InvokeAsync(prompt);\n",
    "\n",
    "// Return the result to the Notebook\n",
    "Console.WriteLine(completion);"
   ]
  },
  {
   "attachments": {},
   "cell_type": "markdown",
   "metadata": {},
   "source": [
    "Did you get the output you were expecting? If you see the completed phrase, great job!! If you don't, then double-check:\n",
    "- your seettings in settings.json and \n",
    "- be sure you correctly set your deployment (Azure) or model (OpenAI).\n",
    "\n",
    "Don't worry too much about what each of the above lines of code actually does as we'll walk through this in more detail in the next few tutorials."
   ]
  }
 ],
 "metadata": {
  "language_info": {
   "name": "python"
  },
  "orig_nbformat": 4
 },
 "nbformat": 4,
 "nbformat_minor": 2
}
