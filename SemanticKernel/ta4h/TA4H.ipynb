{
 "cells": [
  {
   "cell_type": "code",
   "execution_count": 2,
   "metadata": {
    "dotnet_interactive": {
     "language": "csharp"
    },
    "polyglot_notebook": {
     "kernelName": "csharp"
    },
    "vscode": {
     "languageId": "polyglot-notebook"
    }
   },
   "outputs": [
    {
     "data": {
      "text/html": [
       "<div><div></div><div></div><div><strong>Installed Packages</strong><ul><li><span>Microsoft.SemanticKernel, 0.20.230821.4-preview</span></li></ul></div></div>"
      ]
     },
     "metadata": {},
     "output_type": "display_data"
    },
    {
     "name": "stdout",
     "output_type": "stream",
     "text": [
      "https://maanders-azureai-language.cognitiveservices.azure.com/\r\n"
     ]
    }
   ],
   "source": [
    "#r \"nuget: Microsoft.SemanticKernel, 0.20.230821.4-preview\"\n",
    "\n",
    "#!import ../config/SettingsHelper.cs\n",
    "\n",
    "using Microsoft.SemanticKernel;\n",
    "// the following is an abbreviated version of the code in Tutorial0 that reads from the settings file and sets up the kernel\n",
    "MySettings settings = Settings.LoadFromFile();\n",
    "IKernel kernel = Settings.SetupSemanticKernel(settings);\n",
    "Console.WriteLine(settings.LanguageEndpoint)"
   ]
  },
  {
   "cell_type": "code",
   "execution_count": null,
   "metadata": {
    "dotnet_interactive": {
     "language": "csharp"
    },
    "polyglot_notebook": {
     "kernelName": "csharp"
    },
    "vscode": {
     "languageId": "polyglot-notebook"
    }
   },
   "outputs": [],
   "source": [
    "#r \"nuget: Azure.AI.TextAnalytics\"\n",
    "#!import Plugins/AnalyzeTextPlugin2.cs"
   ]
  },
  {
   "cell_type": "code",
   "execution_count": 25,
   "metadata": {
    "dotnet_interactive": {
     "language": "csharp"
    },
    "polyglot_notebook": {
     "kernelName": "csharp"
    },
    "vscode": {
     "languageId": "polyglot-notebook"
    }
   },
   "outputs": [
    {
     "name": "stdout",
     "output_type": "stream",
     "text": [
      "\n",
      "  Entity: 100mg\n",
      "  Category: Dosage\n",
      "  Entity: ibuprofen\n",
      "  Category: MedicationName\n",
      "  Entity: twice daily\n",
      "  Category: Frequency\n",
      "\n",
      "  We found 2 relations in the current document:\n",
      "\n",
      "    Relation: DosageOfMedication\n",
      "    For this relation there are 2 roles\n",
      "      Role Name: Dosage\n",
      "      Associated Entity Text: 100mg\n",
      "      Associated Entity Category: Dosage\n",
      "\n",
      "      Role Name: Medication\n",
      "      Associated Entity Text: ibuprofen\n",
      "      Associated Entity Category: MedicationName\n",
      "\n",
      "\n",
      "    Relation: FrequencyOfMedication\n",
      "    For this relation there are 2 roles\n",
      "      Role Name: Medication\n",
      "      Associated Entity Text: ibuprofen\n",
      "      Associated Entity Category: MedicationName\n",
      "\n",
      "      Role Name: Frequency\n",
      "      Associated Entity Text: twice daily\n",
      "      Associated Entity Category: Frequency\n",
      "\n",
      "\n",
      "\n"
     ]
    }
   ],
   "source": [
    "#!import Plugins/AnalyzeTextPlugin.cs\n",
    "\n",
    "var taPlugin = kernel.ImportSkill(new TextAnalysisPlugin());\n",
    "\n",
    "var context = kernel.RunAsync(\n",
    "    \"Prescribed 100mg ibuprofen, taken twice daily.\", \n",
    "    taPlugin[\"AnalyzeHealthcareEntities\"]);\n",
    "\n",
    "Console.WriteLine(context.Result);"
   ]
  },
  {
   "cell_type": "code",
   "execution_count": 9,
   "metadata": {
    "dotnet_interactive": {
     "language": "csharp"
    },
    "polyglot_notebook": {
     "kernelName": "csharp"
    },
    "vscode": {
     "languageId": "polyglot-notebook"
    }
   },
   "outputs": [
    {
     "name": "stdout",
     "output_type": "stream",
     "text": [
      "Translate the following into olde English: Death cannot stop true love. All it can do is delay it for a while.\r\n"
     ]
    }
   ],
   "source": [
    "#!import Plugins/OldeEnglishPlugin.cs\n",
    "\n",
    "var oePlugin = kernel.ImportSkill(new OldeEnglishPlugin());\n",
    "\n",
    "var context = kernel.RunAsync(\n",
    "    \"Death cannot stop true love. All it can do is delay it for a while.\", \n",
    "    oePlugin[\"Translate\"]);\n",
    "\n",
    "Console.WriteLine(context.Result);"
   ]
  },
  {
   "cell_type": "code",
   "execution_count": 14,
   "metadata": {
    "dotnet_interactive": {
     "language": "csharp"
    },
    "polyglot_notebook": {
     "kernelName": "csharp"
    },
    "vscode": {
     "languageId": "polyglot-notebook"
    }
   },
   "outputs": [
    {
     "ename": "Error",
     "evalue": "(1,39): error CS0246: The type or namespace name 'TextAnalysisPlugin' could not be found (are you missing a using directive or an assembly reference?)",
     "output_type": "error",
     "traceback": [
      "(1,39): error CS0246: The type or namespace name 'TextAnalysisPlugin' could not be found (are you missing a using directive or an assembly reference?)"
     ]
    }
   ],
   "source": [
    "#!import Plugins/AnalyzeTextPlugin.cs\n",
    "\n",
    "var taPlugin = kernel.ImportSkill(new TextAnalysisPlugin());\n",
    "\n",
    "var context = kernel.RunAsync(\n",
    "    \"Prescribed 100mg ibuprofen, taken twice daily.\", \n",
    "    taPlugin[\"AnalyzeHealthcareEntities\"]);\n",
    "\n",
    "Console.WriteLine(context.Result);"
   ]
  },
  {
   "cell_type": "code",
   "execution_count": 15,
   "metadata": {
    "vscode": {
     "languageId": "polyglot-notebook"
    }
   },
   "outputs": [
    {
     "ename": "Error",
     "evalue": "(1,41): error CS0246: The type or namespace name 'MathPlugin' could not be found (are you missing a using directive or an assembly reference?)",
     "output_type": "error",
     "traceback": [
      "(1,41): error CS0246: The type or namespace name 'MathPlugin' could not be found (are you missing a using directive or an assembly reference?)"
     ]
    }
   ],
   "source": [
    "#!import Plugins/math.cs\n",
    "\n",
    "var mathPlugin = kernel.ImportSkill(new MathPlugin());"
   ]
  }
 ],
 "metadata": {
  "language_info": {
   "name": "csharp"
  }
 },
 "nbformat": 4,
 "nbformat_minor": 2
}
