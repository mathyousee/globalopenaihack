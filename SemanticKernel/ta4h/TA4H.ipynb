{
 "cells": [
  {
   "cell_type": "code",
   "execution_count": 13,
   "metadata": {
    "dotnet_interactive": {
     "language": "csharp"
    },
    "polyglot_notebook": {
     "kernelName": "csharp"
    },
    "vscode": {
     "languageId": "polyglot-notebook"
    }
   },
   "outputs": [
    {
     "data": {
      "text/html": [
       "<div><div></div><div></div><div><strong>Installed Packages</strong><ul><li><span>Microsoft.SemanticKernel, 0.20.230821.4-preview</span></li></ul></div></div>"
      ]
     },
     "metadata": {},
     "output_type": "display_data"
    },
    {
     "name": "stdout",
     "output_type": "stream",
     "text": [
      "https://maanders-azureai-language.cognitiveservices.azure.com/\r\n"
     ]
    }
   ],
   "source": [
    "#r \"nuget: Microsoft.SemanticKernel, 0.20.230821.4-preview\"\n",
    "\n",
    "#!import ../config/SettingsHelper.cs\n",
    "\n",
    "using Microsoft.SemanticKernel;\n",
    "// the following is an abbreviated version of the code in Tutorial0 that reads from the settings file and sets up the kernel\n",
    "MySettings settings = Settings.LoadFromFile();\n",
    "IKernel kernel = Settings.SetupSemanticKernel(settings);\n",
    "Console.WriteLine(settings.LanguageEndpoint)"
   ]
  },
  {
   "cell_type": "code",
   "execution_count": 24,
   "metadata": {
    "dotnet_interactive": {
     "language": "csharp"
    },
    "polyglot_notebook": {
     "kernelName": "csharp"
    },
    "vscode": {
     "languageId": "polyglot-notebook"
    }
   },
   "outputs": [
    {
     "data": {
      "text/html": [
       "<div><div></div><div></div><div><strong>Installed Packages</strong><ul><li><span>Azure.AI.TextAnalytics, 5.3.0</span></li></ul></div></div>"
      ]
     },
     "metadata": {},
     "output_type": "display_data"
    }
   ],
   "source": [
    "#r \"nuget: Azure.AI.TextAnalytics\"\n",
    "#!import Plugins/AnalyzeTextPlugin2.cs"
   ]
  },
  {
   "cell_type": "code",
   "execution_count": 63,
   "metadata": {
    "dotnet_interactive": {
     "language": "csharp"
    },
    "polyglot_notebook": {
     "kernelName": "csharp"
    },
    "vscode": {
     "languageId": "polyglot-notebook"
    }
   },
   "outputs": [
    {
     "name": "stdout",
     "output_type": "stream",
     "text": [
      "Created On   : 10/11/2023 3:53:52 AM +00:00\n",
      "Expires On   : 10/12/2023 3:53:52 AM +00:00\n",
      "Status       : succeeded\n",
      "Last Modified: 10/11/2023 3:53:55 AM +00:00\n",
      "Results of \"Healthcare Async\" Model, version: \"2023-04-01\"\n",
      "\n",
      "  Entity: 100mg\n",
      "  Category: Dosage\n",
      "  Offset: 11\n",
      "  Length: 5\n",
      "  NormalizedText: \n",
      "  Links:\n",
      "  Entity: ibuprofen\n",
      "  Category: MedicationName\n",
      "  Offset: 17\n",
      "  Length: 9\n",
      "  NormalizedText: ibuprofen\n",
      "  Links:\n",
      "    Entity ID in Data Source: C0020740\n",
      "    DataSource: UMLS\n",
      "    Entity ID in Data Source: 0000019879\n",
      "    DataSource: AOD\n",
      "    Entity ID in Data Source: M01AE01\n",
      "    DataSource: ATC\n",
      "    Entity ID in Data Source: 0046165\n",
      "    DataSource: CCPSS\n",
      "    Entity ID in Data Source: 0000006519\n",
      "    DataSource: CHV\n",
      "    Entity ID in Data Source: 2270-2077\n",
      "    DataSource: CSP\n",
      "    Entity ID in Data Source: DB01050\n",
      "    DataSource: DRUGBANK\n",
      "    Entity ID in Data Source: 1611\n",
      "    DataSource: GS\n",
      "    Entity ID in Data Source: sh97005926\n",
      "    DataSource: LCH_NW\n",
      "    Entity ID in Data Source: LP16165-0\n",
      "    DataSource: LNC\n",
      "    Entity ID in Data Source: 40458\n",
      "    DataSource: MEDCIN\n",
      "    Entity ID in Data Source: d00015\n",
      "    DataSource: MMSL\n",
      "    Entity ID in Data Source: D007052\n",
      "    DataSource: MSH\n",
      "    Entity ID in Data Source: WK2XYI10QM\n",
      "    DataSource: MTHSPL\n",
      "    Entity ID in Data Source: C561\n",
      "    DataSource: NCI\n",
      "    Entity ID in Data Source: 002377\n",
      "    DataSource: NDDF\n",
      "    Entity ID in Data Source: CDR0000040475\n",
      "    DataSource: PDQ\n",
      "    Entity ID in Data Source: x02MO\n",
      "    DataSource: RCD\n",
      "    Entity ID in Data Source: 5640\n",
      "    DataSource: RXNORM\n",
      "    Entity ID in Data Source: E-7772\n",
      "    DataSource: SNM\n",
      "    Entity ID in Data Source: C-603C0\n",
      "    DataSource: SNMI\n",
      "    Entity ID in Data Source: 387207008\n",
      "    DataSource: SNOMEDCT_US\n",
      "    Entity ID in Data Source: m39860\n",
      "    DataSource: USP\n",
      "    Entity ID in Data Source: MTHU000060\n",
      "    DataSource: USPMG\n",
      "    Entity ID in Data Source: 4017840\n",
      "    DataSource: VANDF\n",
      "  Entity: twice daily\n",
      "  Category: Frequency\n",
      "  Offset: 34\n",
      "  Length: 11\n",
      "  NormalizedText: \n",
      "  Links:\n",
      "  We found 2 relations in the current document:\n",
      "\n",
      "    Relation: DosageOfMedication\n",
      "    For this relation there are 2 roles\n",
      "      Role Name: Dosage\n",
      "      Associated Entity Text: 100mg\n",
      "      Associated Entity Category: Dosage\n",
      "\n",
      "      Role Name: Medication\n",
      "      Associated Entity Text: ibuprofen\n",
      "      Associated Entity Category: MedicationName\n",
      "\n",
      "\n",
      "    Relation: FrequencyOfMedication\n",
      "    For this relation there are 2 roles\n",
      "      Role Name: Medication\n",
      "      Associated Entity Text: ibuprofen\n",
      "      Associated Entity Category: MedicationName\n",
      "\n",
      "      Role Name: Frequency\n",
      "      Associated Entity Text: twice daily\n",
      "      Associated Entity Category: Frequency\n",
      "\n",
      "\n",
      "\n",
      "complete\n"
     ]
    }
   ],
   "source": [
    "#!import Plugins/AnalyzeTextPlugin2.cs\n",
    "\n",
    "var taPlugin = kernel.ImportSkill(new TextAnalysisPlugin());\n",
    "\n",
    "var context = kernel.RunAsync(\n",
    "    \"Prescribed 100mg ibuprofen, taken twice daily.\", \n",
    "    taPlugin[\"AnalyzeHealthcareEntities\"]);\n",
    "\n",
    "Console.WriteLine(context.Result);"
   ]
  },
  {
   "cell_type": "code",
   "execution_count": 19,
   "metadata": {
    "dotnet_interactive": {
     "language": "csharp"
    },
    "polyglot_notebook": {
     "kernelName": "csharp"
    },
    "vscode": {
     "languageId": "polyglot-notebook"
    }
   },
   "outputs": [
    {
     "name": "stdout",
     "output_type": "stream",
     "text": [
      "Translate the following into olde English: Death cannot stop true love. All it can do is delay it for a while.\r\n"
     ]
    }
   ],
   "source": [
    "#!import Plugins/OldeEnglishPlugin.cs\n",
    "\n",
    "var oePlugin = kernel.ImportSkill(new OldeEnglishPlugin());\n",
    "\n",
    "var context = kernel.RunAsync(\n",
    "    \"Death cannot stop true love. All it can do is delay it for a while.\", \n",
    "    oePlugin[\"Translate\"]);\n",
    "\n",
    "Console.WriteLine(context.Result);"
   ]
  },
  {
   "cell_type": "code",
   "execution_count": 14,
   "metadata": {
    "dotnet_interactive": {
     "language": "csharp"
    },
    "polyglot_notebook": {
     "kernelName": "csharp"
    },
    "vscode": {
     "languageId": "polyglot-notebook"
    }
   },
   "outputs": [
    {
     "ename": "Error",
     "evalue": "(1,39): error CS0246: The type or namespace name 'TextAnalysisPlugin' could not be found (are you missing a using directive or an assembly reference?)",
     "output_type": "error",
     "traceback": [
      "(1,39): error CS0246: The type or namespace name 'TextAnalysisPlugin' could not be found (are you missing a using directive or an assembly reference?)"
     ]
    }
   ],
   "source": [
    "#!import Plugins/AnalyzeTextPlugin.cs\n",
    "\n",
    "var taPlugin = kernel.ImportSkill(new TextAnalysisPlugin());\n",
    "\n",
    "var context = kernel.RunAsync(\n",
    "    \"Prescribed 100mg ibuprofen, taken twice daily.\", \n",
    "    taPlugin[\"AnalyzeHealthcareEntities\"]);\n",
    "\n",
    "Console.WriteLine(context.Result);"
   ]
  },
  {
   "cell_type": "code",
   "execution_count": null,
   "metadata": {
    "dotnet_interactive": {
     "language": "csharp"
    },
    "polyglot_notebook": {
     "kernelName": "csharp"
    },
    "vscode": {
     "languageId": "polyglot-notebook"
    }
   },
   "outputs": [],
   "source": [
    "TextAnalysisPlugin plugin = new TextAnalysisPlugin();\n",
    "string text = \"Prescribed 100mg ibuprofen, taken twice daily.\";\n",
    "string responseJson = await plugin.AnalyzeHealthcareEntities(text);\n",
    "Console.WriteLine(responseJson);"
   ]
  }
 ],
 "metadata": {
  "language_info": {
   "name": "csharp"
  }
 },
 "nbformat": 4,
 "nbformat_minor": 2
}
